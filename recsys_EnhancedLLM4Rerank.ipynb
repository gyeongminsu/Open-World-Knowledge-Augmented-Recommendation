{
 "cells": [
  {
   "cell_type": "code",
   "execution_count": 4,
   "metadata": {},
   "outputs": [
    {
     "name": "stdout",
     "output_type": "stream",
     "text": [
      "Tue Dec  3 15:59:07 2024       \n",
      "+-----------------------------------------------------------------------------------------+\n",
      "| NVIDIA-SMI 555.42.02              Driver Version: 555.42.02      CUDA Version: 12.5     |\n",
      "|-----------------------------------------+------------------------+----------------------+\n",
      "| GPU  Name                 Persistence-M | Bus-Id          Disp.A | Volatile Uncorr. ECC |\n",
      "| Fan  Temp   Perf          Pwr:Usage/Cap |           Memory-Usage | GPU-Util  Compute M. |\n",
      "|                                         |                        |               MIG M. |\n",
      "|=========================================+========================+======================|\n",
      "|   0  NVIDIA RTX A6000               On  |   00000000:34:00.0 Off |                  Off |\n",
      "| 30%   27C    P8             25W /  300W |       2MiB /  49140MiB |      0%      Default |\n",
      "|                                         |                        |                  N/A |\n",
      "+-----------------------------------------+------------------------+----------------------+\n",
      "|   1  NVIDIA RTX A6000               On  |   00000000:35:00.0 Off |                  Off |\n",
      "| 30%   30C    P8             24W /  300W |       2MiB /  49140MiB |      0%      Default |\n",
      "|                                         |                        |                  N/A |\n",
      "+-----------------------------------------+------------------------+----------------------+\n",
      "|   2  NVIDIA RTX A6000               On  |   00000000:36:00.0 Off |                  Off |\n",
      "| 30%   32C    P8             22W /  300W |       2MiB /  49140MiB |      0%      Default |\n",
      "|                                         |                        |                  N/A |\n",
      "+-----------------------------------------+------------------------+----------------------+\n",
      "|   3  NVIDIA RTX A6000               On  |   00000000:37:00.0 Off |                  Off |\n",
      "| 30%   29C    P8             21W /  300W |       2MiB /  49140MiB |      0%      Default |\n",
      "|                                         |                        |                  N/A |\n",
      "+-----------------------------------------+------------------------+----------------------+\n",
      "                                                                                         \n",
      "+-----------------------------------------------------------------------------------------+\n",
      "| Processes:                                                                              |\n",
      "|  GPU   GI   CI        PID   Type   Process name                              GPU Memory |\n",
      "|        ID   ID                                                               Usage      |\n",
      "|=========================================================================================|\n",
      "|  No running processes found                                                             |\n",
      "+-----------------------------------------------------------------------------------------+\n"
     ]
    }
   ],
   "source": [
    "import os\n",
    "\n",
    "!nvidia-smi"
   ]
  },
  {
   "cell_type": "markdown",
   "metadata": {},
   "source": [
    "# Reranking"
   ]
  },
  {
   "cell_type": "code",
   "execution_count": 3,
   "metadata": {},
   "outputs": [
    {
     "name": "stdout",
     "output_type": "stream",
     "text": [
      "Training EnhancedLLM4Rerank with params: lr=0.1, aspect_weights=0.4,0.3,0.3, diversity_threshold=0.7\n",
      "max hist len 5\n",
      "202412031338\n",
      "parameters Namespace(data_dir='../data/amz/proc_data', save_dir='./model/amz/rerank/EnhancedLLM4Rerank/Enhanced_LLM4Rerank_lr0.1_weights0.4,0.3,0.3_divthresh0.7', reload_path='', setting_path='', device='cuda', seed=1234, output_dim=1, timestamp='202412031338', epoch_num=50, batch_size=256, lr=0.1, weight_decay=0, adam_betas='0.9,0.999', adam_epsilon=1e-08, lr_sched='cosine', warmup_ratio=0.0, dropout=0.0, convert_dropout=0.0, grad_norm=0, test=False, patience=3, metric_scope=[1, 3, 5, 7], task='rerank', algo='EnhancedLLM4Rerank', augment=True, aug_prefix='bert_avg', convert_type='HEA', max_hist_len=5, embed_dim=32, final_mlp_arch=[200, 80], convert_arch=[128, 32], export_num=2, top_expt_num=4, specific_export_num=6, auxi_loss_weight=0, hidden_size=64, rnn_dp=0.0, n_head=2, ff_dim=128, attn_dp=0.0, temperature=1.0, n_layers=3, max_depth=6, n_estimators=100, feature_mlp_arch=[256, 128, 64])\n",
      "Train data size: 320368 Test data size: 35834\n",
      "No Such Model\n",
      "Training EnhancedLLM4Rerank with params: lr=0.1, aspect_weights=0.4,0.3,0.3, diversity_threshold=0.8\n",
      "max hist len 5\n",
      "202412031338\n",
      "parameters Namespace(data_dir='../data/amz/proc_data', save_dir='./model/amz/rerank/EnhancedLLM4Rerank/Enhanced_LLM4Rerank_lr0.1_weights0.4,0.3,0.3_divthresh0.8', reload_path='', setting_path='', device='cuda', seed=1234, output_dim=1, timestamp='202412031338', epoch_num=50, batch_size=256, lr=0.1, weight_decay=0, adam_betas='0.9,0.999', adam_epsilon=1e-08, lr_sched='cosine', warmup_ratio=0.0, dropout=0.0, convert_dropout=0.0, grad_norm=0, test=False, patience=3, metric_scope=[1, 3, 5, 7], task='rerank', algo='EnhancedLLM4Rerank', augment=True, aug_prefix='bert_avg', convert_type='HEA', max_hist_len=5, embed_dim=32, final_mlp_arch=[200, 80], convert_arch=[128, 32], export_num=2, top_expt_num=4, specific_export_num=6, auxi_loss_weight=0, hidden_size=64, rnn_dp=0.0, n_head=2, ff_dim=128, attn_dp=0.0, temperature=1.0, n_layers=3, max_depth=6, n_estimators=100, feature_mlp_arch=[256, 128, 64])\n",
      "^C\n"
     ]
    }
   ],
   "source": [
    "os.chdir(\"/home2/kkms4641/Open-World-Knowledge-Augmented-Recommendation/RS\")\n",
    "!python run_rerank_EnhancedLLM4Rerank.py"
   ]
  },
  {
   "cell_type": "code",
   "execution_count": null,
   "metadata": {},
   "outputs": [],
   "source": []
  }
 ],
 "metadata": {
  "kernelspec": {
   "display_name": "Python 3 (ipykernel)",
   "language": "python",
   "name": "python3"
  },
  "language_info": {
   "codemirror_mode": {
    "name": "ipython",
    "version": 3
   },
   "file_extension": ".py",
   "mimetype": "text/x-python",
   "name": "python",
   "nbconvert_exporter": "python",
   "pygments_lexer": "ipython3",
   "version": "3.12.4"
  }
 },
 "nbformat": 4,
 "nbformat_minor": 2
}
