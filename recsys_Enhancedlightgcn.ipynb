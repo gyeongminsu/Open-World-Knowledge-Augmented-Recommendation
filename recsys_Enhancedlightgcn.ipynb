{
 "cells": [
  {
   "cell_type": "code",
   "execution_count": 3,
   "metadata": {},
   "outputs": [
    {
     "name": "stdout",
     "output_type": "stream",
     "text": [
      "Wed Dec  4 16:31:40 2024       \n",
      "+-----------------------------------------------------------------------------------------+\n",
      "| NVIDIA-SMI 555.42.02              Driver Version: 555.42.02      CUDA Version: 12.5     |\n",
      "|-----------------------------------------+------------------------+----------------------+\n",
      "| GPU  Name                 Persistence-M | Bus-Id          Disp.A | Volatile Uncorr. ECC |\n",
      "| Fan  Temp   Perf          Pwr:Usage/Cap |           Memory-Usage | GPU-Util  Compute M. |\n",
      "|                                         |                        |               MIG M. |\n",
      "|=========================================+========================+======================|\n",
      "|   0  NVIDIA RTX A6000               On  |   00000000:4F:00.0 Off |                  Off |\n",
      "| 30%   41C    P0             81W /  300W |     488MiB /  49140MiB |      1%      Default |\n",
      "|                                         |                        |                  N/A |\n",
      "+-----------------------------------------+------------------------+----------------------+\n",
      "|   1  NVIDIA RTX A6000               On  |   00000000:52:00.0 Off |                  Off |\n",
      "| 30%   32C    P8             16W /  300W |       4MiB /  49140MiB |      0%      Default |\n",
      "|                                         |                        |                  N/A |\n",
      "+-----------------------------------------+------------------------+----------------------+\n",
      "|   2  NVIDIA RTX A6000               On  |   00000000:56:00.0 Off |                  Off |\n",
      "| 30%   28C    P8             20W /  300W |       4MiB /  49140MiB |      0%      Default |\n",
      "|                                         |                        |                  N/A |\n",
      "+-----------------------------------------+------------------------+----------------------+\n",
      "|   3  NVIDIA RTX A6000               On  |   00000000:57:00.0 Off |                  Off |\n",
      "| 30%   30C    P8             23W /  300W |       4MiB /  49140MiB |      0%      Default |\n",
      "|                                         |                        |                  N/A |\n",
      "+-----------------------------------------+------------------------+----------------------+\n",
      "                                                                                         \n",
      "+-----------------------------------------------------------------------------------------+\n",
      "| Processes:                                                                              |\n",
      "|  GPU   GI   CI        PID   Type   Process name                              GPU Memory |\n",
      "|        ID   ID                                                               Usage      |\n",
      "|=========================================================================================|\n",
      "|    0   N/A  N/A   1304623      C   python                                        478MiB |\n",
      "+-----------------------------------------------------------------------------------------+\n"
     ]
    }
   ],
   "source": [
    "import os\n",
    "\n",
    "!nvidia-smi"
   ]
  },
  {
   "cell_type": "markdown",
   "metadata": {},
   "source": [
    "# Reranking"
   ]
  },
  {
   "cell_type": "code",
   "execution_count": 4,
   "metadata": {},
   "outputs": [],
   "source": [
    "os.environ[\"CUDA_VISIBLE_DEVICES\"] = \"1\""
   ]
  },
  {
   "cell_type": "code",
   "execution_count": null,
   "metadata": {},
   "outputs": [
    {
     "name": "stdout",
     "output_type": "stream",
     "text": [
      "---------------bs,lr,wd,epoch, export share/spcf, convert arch ---------- 256 5e-4 50 0 2 5 128,32 LightGCNPlusPlus\n",
      "max hist len 5\n",
      "202412041643\n",
      "parameters Namespace(data_dir='../data/amz/proc_data', save_dir='./model/amz/rerank/LightGCNPlusPlus_nl4/WDA_Emb32_epoch50_bs256_lr5e-4_cnvt_arch_128,32_cnvt_type_HEA_eprt_2_wd0_drop0.0_hl200,80_cl3_augment_True', reload_path='', setting_path='', device='cuda', seed=1234, output_dim=1, timestamp='202412041643', epoch_num=50, batch_size=256, lr=0.0005, weight_decay=0.0, adam_betas='0.9,0.999', adam_epsilon=1e-08, lr_sched='cosine', warmup_ratio=0.0, dropout=0.0, convert_dropout=0.0, grad_norm=0, test=False, patience=3, metric_scope=[1, 3, 5, 7], task='rerank', algo='LightGCNPlusPlus', augment=True, aug_prefix='bert_avg', convert_type='HEA', max_hist_len=5, embed_dim=32, final_mlp_arch=[200, 80], convert_arch=[128, 32], export_num=2, top_expt_num=4, specific_export_num=5, auxi_loss_weight=0, hidden_size=64, rnn_dp=0.0, n_head=2, ff_dim=128, attn_dp=0.0, temperature=0.5, n_layers=4, max_depth=6, n_estimators=100, feature_mlp_arch=[256, 128, 64], llm_heads=4, llm_layers=2, llm_ff_dim=256, norm_scale=1.0, layer_weight_init=1.0, neighbor_weight_init=1.0)\n",
      "Train data size: 320368 Test data size: 35834\n",
      "HEA\n",
      "convert module: HEA\n",
      "metric scope [1, 3, 5, 7]\n",
      "test loss: 2.36551, test time: 33.65134\n",
      "@1, MAP: 0.23720, NDCG: 0.23720, CLICK: 0.23720\n",
      "@3, MAP: 0.36898, NDCG: 0.27010, CLICK: 0.71795\n",
      "@5, MAP: 0.39297, NDCG: 0.34451, CLICK: 1.19066\n",
      "@7, MAP: 0.38944, NDCG: 0.42478, CLICK: 1.66515\n",
      "/gpfs/home2/kkms4641/Open-World-Knowledge-Augmented-Recommendation/RS/optimization.py:139: UserWarning: This overload of add_ is deprecated:\n",
      "\tadd_(Number alpha, Tensor other)\n",
      "Consider using one of the following signatures instead:\n",
      "\tadd_(Tensor other, *, Number alpha = 1) (Triggered internally at ../torch/csrc/utils/python_arg_parser.cpp:1581.)\n",
      "  exp_avg.mul_(beta1).add_(-beta1 + 1.0, grad)\n",
      "epoch: 0, train time: 311.62565, test loss: 0.71892, test time: 34.27191\n",
      "@1, MAP: 0.24248, NDCG: 0.24248, CLICK: 0.24248\n",
      "@3, MAP: 0.37104, NDCG: 0.27029, CLICK: 0.71697\n",
      "@5, MAP: 0.39385, NDCG: 0.34533, CLICK: 1.19247\n",
      "@7, MAP: 0.38971, NDCG: 0.42671, CLICK: 1.67559\n",
      "model save in ./model/amz/rerank/LightGCNPlusPlus_nl4/WDA_Emb32_epoch50_bs256_lr5e-4_cnvt_arch_128,32_cnvt_type_HEA_eprt_2_wd0_drop0.0_hl200,80_cl3_augment_True/LightGCNPlusPlus.pt\n"
     ]
    }
   ],
   "source": [
    "os.chdir(\"/home2/kkms4641/Open-World-Knowledge-Augmented-Recommendation/RS\")\n",
    "!python run_rerank_LightGCNPlusPlus.py"
   ]
  },
  {
   "cell_type": "code",
   "execution_count": null,
   "metadata": {},
   "outputs": [],
   "source": []
  }
 ],
 "metadata": {
  "kernelspec": {
   "display_name": "Python 3 (ipykernel)",
   "language": "python",
   "name": "python3"
  },
  "language_info": {
   "codemirror_mode": {
    "name": "ipython",
    "version": 3
   },
   "file_extension": ".py",
   "mimetype": "text/x-python",
   "name": "python",
   "nbconvert_exporter": "python",
   "pygments_lexer": "ipython3",
   "version": "3.12.4"
  }
 },
 "nbformat": 4,
 "nbformat_minor": 2
}
