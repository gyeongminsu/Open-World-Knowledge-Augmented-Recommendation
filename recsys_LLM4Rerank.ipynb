{
 "cells": [
  {
   "cell_type": "code",
   "execution_count": 2,
   "metadata": {},
   "outputs": [
    {
     "name": "stdout",
     "output_type": "stream",
     "text": [
      "Wed Dec  4 17:29:02 2024       \n",
      "+-----------------------------------------------------------------------------------------+\n",
      "| NVIDIA-SMI 555.42.02              Driver Version: 555.42.02      CUDA Version: 12.5     |\n",
      "|-----------------------------------------+------------------------+----------------------+\n",
      "| GPU  Name                 Persistence-M | Bus-Id          Disp.A | Volatile Uncorr. ECC |\n",
      "| Fan  Temp   Perf          Pwr:Usage/Cap |           Memory-Usage | GPU-Util  Compute M. |\n",
      "|                                         |                        |               MIG M. |\n",
      "|=========================================+========================+======================|\n",
      "|   0  NVIDIA RTX A6000               On  |   00000000:34:00.0 Off |                  Off |\n",
      "| 30%   29C    P8             15W /  300W |       2MiB /  49140MiB |      0%      Default |\n",
      "|                                         |                        |                  N/A |\n",
      "+-----------------------------------------+------------------------+----------------------+\n",
      "|   1  NVIDIA RTX A6000               On  |   00000000:35:00.0 Off |                  Off |\n",
      "| 30%   32C    P8             19W /  300W |       2MiB /  49140MiB |      0%      Default |\n",
      "|                                         |                        |                  N/A |\n",
      "+-----------------------------------------+------------------------+----------------------+\n",
      "|   2  NVIDIA RTX A6000               On  |   00000000:36:00.0 Off |                  Off |\n",
      "| 30%   32C    P8             22W /  300W |       2MiB /  49140MiB |      0%      Default |\n",
      "|                                         |                        |                  N/A |\n",
      "+-----------------------------------------+------------------------+----------------------+\n",
      "|   3  NVIDIA RTX A6000               On  |   00000000:37:00.0 Off |                  Off |\n",
      "| 30%   30C    P8             23W /  300W |       2MiB /  49140MiB |      0%      Default |\n",
      "|                                         |                        |                  N/A |\n",
      "+-----------------------------------------+------------------------+----------------------+\n",
      "                                                                                         \n",
      "+-----------------------------------------------------------------------------------------+\n",
      "| Processes:                                                                              |\n",
      "|  GPU   GI   CI        PID   Type   Process name                              GPU Memory |\n",
      "|        ID   ID                                                               Usage      |\n",
      "|=========================================================================================|\n",
      "|  No running processes found                                                             |\n",
      "+-----------------------------------------------------------------------------------------+\n"
     ]
    }
   ],
   "source": [
    "import os\n",
    "\n",
    "!nvidia-smi"
   ]
  },
  {
   "cell_type": "markdown",
   "metadata": {},
   "source": [
    "# Reranking"
   ]
  },
  {
   "cell_type": "code",
   "execution_count": null,
   "metadata": {},
   "outputs": [
    {
     "name": "stdout",
     "output_type": "stream",
     "text": [
      "--------------- Testing with bs=256, lr=5e-4, wd=0, heads=16 -----------\n",
      "max hist len 5\n",
      "202412042040\n",
      "parameters Namespace(data_dir='../data/amz/proc_data', save_dir='./model/amz/rerank/LLM4Rerank/LLM_Emb32_epoch50_bs256_lr5e-4_heads16_wd0', reload_path='', setting_path='', device='cuda', seed=1234, output_dim=1, timestamp='202412042040', epoch_num=50, batch_size=256, lr=0.0005, weight_decay=0.0, adam_betas='0.9,0.999', adam_epsilon=1e-08, lr_sched='cosine', warmup_ratio=0.0, dropout=0.0, convert_dropout=0.0, grad_norm=0, test=False, patience=3, metric_scope=[1, 3, 5, 7], task='rerank', algo='LLM4Rerank', augment=True, aug_prefix='bert_avg', convert_type='HEA', max_hist_len=5, embed_dim=32, final_mlp_arch=[200, 80], convert_arch=[128, 32], export_num=2, top_expt_num=4, specific_export_num=6, auxi_loss_weight=0, hidden_size=64, rnn_dp=0.0, n_head=2, ff_dim=128, attn_dp=0.0, temperature=1.0, n_layers=3, max_depth=6, n_estimators=100, feature_mlp_arch=[256, 128, 64], llm_heads=16, llm_layers=12, llm_ff_dim=1024, norm_scale=1.0, layer_weight_init=1.0, neighbor_weight_init=1.0)\n",
      "Train data size: 320368 Test data size: 35834\n",
      "HEA\n",
      "convert module: HEA\n",
      "metric scope [1, 3, 5, 7]\n",
      "test loss: 0.29691, test time: 43.80368\n",
      "@1, MAP: 0.23720, NDCG: 0.23720, CLICK: 0.23720\n",
      "@3, MAP: 0.36898, NDCG: 0.27010, CLICK: 0.71795\n",
      "@5, MAP: 0.39297, NDCG: 0.34451, CLICK: 1.19066\n",
      "@7, MAP: 0.38944, NDCG: 0.42478, CLICK: 1.66515\n",
      "/gpfs/home2/kkms4641/Open-World-Knowledge-Augmented-Recommendation/RS/optimization.py:139: UserWarning: This overload of add_ is deprecated:\n",
      "\tadd_(Number alpha, Tensor other)\n",
      "Consider using one of the following signatures instead:\n",
      "\tadd_(Tensor other, *, Number alpha = 1) (Triggered internally at ../torch/csrc/utils/python_arg_parser.cpp:1581.)\n",
      "  exp_avg.mul_(beta1).add_(-beta1 + 1.0, grad)\n",
      "epoch: 0, train time: 433.13606, test loss: 0.27550, test time: 43.40589\n",
      "@1, MAP: 0.48750, NDCG: 0.48750, CLICK: 0.48750\n",
      "@3, MAP: 0.60021, NDCG: 0.52334, CLICK: 1.33451\n",
      "@5, MAP: 0.59680, NDCG: 0.60754, CLICK: 1.94391\n",
      "@7, MAP: 0.58718, NDCG: 0.65851, CLICK: 2.25359\n",
      "model save in ./model/amz/rerank/LLM4Rerank/LLM_Emb32_epoch50_bs256_lr5e-4_heads16_wd0/LLM4Rerank.pt\n",
      "epoch: 1, train time: 432.98538, test loss: 0.27231, test time: 43.39131\n",
      "@1, MAP: 0.53006, NDCG: 0.53006, CLICK: 0.53006\n",
      "@3, MAP: 0.63066, NDCG: 0.56037, CLICK: 1.43520\n",
      "@5, MAP: 0.62337, NDCG: 0.63852, CLICK: 2.02992\n",
      "@7, MAP: 0.61291, NDCG: 0.68065, CLICK: 2.28255\n",
      "model save in ./model/amz/rerank/LLM4Rerank/LLM_Emb32_epoch50_bs256_lr5e-4_heads16_wd0/LLM4Rerank.pt\n",
      "epoch: 2, train time: 433.65475, test loss: 0.27045, test time: 43.50059\n",
      "@1, MAP: 0.54298, NDCG: 0.54298, CLICK: 0.54298\n",
      "@3, MAP: 0.64235, NDCG: 0.57714, CLICK: 1.47600\n",
      "@5, MAP: 0.63530, NDCG: 0.65541, CLICK: 2.07624\n",
      "@7, MAP: 0.62650, NDCG: 0.69283, CLICK: 2.30005\n",
      "model save in ./model/amz/rerank/LLM4Rerank/LLM_Emb32_epoch50_bs256_lr5e-4_heads16_wd0/LLM4Rerank.pt\n",
      "epoch: 3, train time: 432.87894, test loss: 0.26980, test time: 43.39626\n",
      "@1, MAP: 0.54990, NDCG: 0.54990, CLICK: 0.54990\n",
      "@3, MAP: 0.64747, NDCG: 0.58426, CLICK: 1.49595\n",
      "@5, MAP: 0.64014, NDCG: 0.66078, CLICK: 2.09095\n",
      "@7, MAP: 0.63137, NDCG: 0.69685, CLICK: 2.30619\n",
      "model save in ./model/amz/rerank/LLM4Rerank/LLM_Emb32_epoch50_bs256_lr5e-4_heads16_wd0/LLM4Rerank.pt\n",
      "epoch: 4, train time: 433.74041, test loss: 0.26933, test time: 43.39092\n",
      "@1, MAP: 0.55523, NDCG: 0.55523, CLICK: 0.55523\n",
      "@3, MAP: 0.65129, NDCG: 0.58887, CLICK: 1.50491\n",
      "@5, MAP: 0.64343, NDCG: 0.66523, CLICK: 2.10097\n",
      "@7, MAP: 0.63514, NDCG: 0.69976, CLICK: 2.30728\n",
      "model save in ./model/amz/rerank/LLM4Rerank/LLM_Emb32_epoch50_bs256_lr5e-4_heads16_wd0/LLM4Rerank.pt\n",
      "epoch: 5, train time: 432.80750, test loss: 0.26871, test time: 43.47678\n",
      "@1, MAP: 0.56028, NDCG: 0.56028, CLICK: 0.56028\n",
      "@3, MAP: 0.65429, NDCG: 0.59380, CLICK: 1.52297\n",
      "@5, MAP: 0.64716, NDCG: 0.66944, CLICK: 2.11665\n",
      "@7, MAP: 0.63865, NDCG: 0.70259, CLICK: 2.31247\n",
      "model save in ./model/amz/rerank/LLM4Rerank/LLM_Emb32_epoch50_bs256_lr5e-4_heads16_wd0/LLM4Rerank.pt\n",
      "epoch: 6, train time: 432.94158, test loss: 0.26874, test time: 44.16448\n",
      "@1, MAP: 0.56145, NDCG: 0.56145, CLICK: 0.56145\n",
      "@3, MAP: 0.65733, NDCG: 0.59643, CLICK: 1.52601\n",
      "@5, MAP: 0.64935, NDCG: 0.67133, CLICK: 2.11804\n",
      "@7, MAP: 0.64073, NDCG: 0.70271, CLICK: 2.30532\n",
      "model save in ./model/amz/rerank/LLM4Rerank/LLM_Emb32_epoch50_bs256_lr5e-4_heads16_wd0/LLM4Rerank.pt\n",
      "epoch: 7, train time: 432.85164, test loss: 0.26826, test time: 43.39478\n",
      "@1, MAP: 0.56165, NDCG: 0.56165, CLICK: 0.56165\n",
      "@3, MAP: 0.65769, NDCG: 0.59871, CLICK: 1.53611\n",
      "@5, MAP: 0.64981, NDCG: 0.67366, CLICK: 2.12907\n",
      "@7, MAP: 0.64195, NDCG: 0.70324, CLICK: 2.30560\n",
      "model save in ./model/amz/rerank/LLM4Rerank/LLM_Emb32_epoch50_bs256_lr5e-4_heads16_wd0/LLM4Rerank.pt\n",
      "epoch: 8, train time: 435.04135, test loss: 0.26857, test time: 42.83858\n",
      "@1, MAP: 0.56301, NDCG: 0.56301, CLICK: 0.56301\n",
      "@3, MAP: 0.65854, NDCG: 0.59933, CLICK: 1.53686\n",
      "@5, MAP: 0.65036, NDCG: 0.67298, CLICK: 2.12421\n",
      "@7, MAP: 0.64229, NDCG: 0.70234, CLICK: 2.29907\n",
      "model save in ./model/amz/rerank/LLM4Rerank/LLM_Emb32_epoch50_bs256_lr5e-4_heads16_wd0/LLM4Rerank.pt\n",
      "epoch: 9, train time: 439.20309, test loss: 0.26859, test time: 43.65426\n",
      "@1, MAP: 0.56349, NDCG: 0.56349, CLICK: 0.56349\n",
      "@3, MAP: 0.65846, NDCG: 0.60060, CLICK: 1.54272\n",
      "@5, MAP: 0.65097, NDCG: 0.67335, CLICK: 2.12597\n",
      "@7, MAP: 0.64333, NDCG: 0.70111, CLICK: 2.29073\n",
      "model save in ./model/amz/rerank/LLM4Rerank/LLM_Emb32_epoch50_bs256_lr5e-4_heads16_wd0/LLM4Rerank.pt\n"
     ]
    }
   ],
   "source": [
    "os.chdir(\"/home2/kkms4641/Open-World-Knowledge-Augmented-Recommendation/RS\")\n",
    "!python run_rerank_LLM4Rerank.py"
   ]
  },
  {
   "cell_type": "code",
   "execution_count": null,
   "metadata": {},
   "outputs": [],
   "source": []
  }
 ],
 "metadata": {
  "kernelspec": {
   "display_name": "Python 3 (ipykernel)",
   "language": "python",
   "name": "python3"
  },
  "language_info": {
   "codemirror_mode": {
    "name": "ipython",
    "version": 3
   },
   "file_extension": ".py",
   "mimetype": "text/x-python",
   "name": "python",
   "nbconvert_exporter": "python",
   "pygments_lexer": "ipython3",
   "version": "3.12.4"
  }
 },
 "nbformat": 4,
 "nbformat_minor": 2
}
